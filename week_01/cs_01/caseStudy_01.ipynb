{
 "cells": [
  {
   "cell_type": "markdown",
   "source": [
    "title: \"Case Study 1\"  \r\n",
    "date: \"2021-09-16\"  \r\n",
    "author: \"Ben Fuqua\"  \r\n",
    "class: \"CSE 350\"  \r\n",
    "section: \"01\"  \r\n",
    "hours: 1  \r\n",
    "professor: \"Palmer\"  \r\n",
    "due: \"2021-09-18\"  "
   ],
   "metadata": {}
  },
  {
   "cell_type": "markdown",
   "source": [
    "https://ourworldindata.org/what-is-depression\r\n",
    "\r\n",
    "# Depression is complicated\r\n",
    "\r\n",
    "I read this article because I have some family members and close friends with depression and I thought it would be interesting to learn about how we have understood it over the years.\r\n",
    "\r\n",
    "One of the things that I thought was interesting about this graph is how there were check marks underneath. I have never seen something like this where there are two charts that cannot be interpreted without the other. This being said, I thought it was a little too busy. I kept having to reference the bottom in order for the top to make sense. If I had done this graph, I would've organized it by the checkmarks from greatest to least. "
   ],
   "metadata": {}
  },
  {
   "cell_type": "markdown",
   "source": [
    "https://ourworldindata.org/smoking-big-problem-in-brief\r\n",
    "\r\n",
    "# Smoking: How large of a global prolem is it. \r\n",
    "\r\n",
    "I thought this article was interesting because when I served my mission, there were people smoking everywhere. You couldn't get away from it if you tried.\r\n",
    "\r\n",
    "I LOVE the graph at the bottom. it is descriptive, good labels and it even gives us historical context for why things have fallen or risen. My only critique is the red line. It takes me a while to figure out how it fits into the graph and I think it deserves it's own graph at first, then as a conclusion combining them once we understand what each of the lines are. "
   ],
   "metadata": {}
  },
  {
   "cell_type": "markdown",
   "source": [
    "https://ourworldindata.org/childhood-vaccination-policies\r\n",
    "\r\n",
    "# Childhood vaccination policies\r\n",
    "\r\n",
    "I thought it would be intersting to see some studdies on vaccines with the new COVID-19 vaccine coming out.\r\n",
    "\r\n",
    "I like how they used a geospatial map in this article. I think this helped quickly convey their message of the state of vaccines in each country. They even encoded a pop up so when you hover over it, the data pops up. Honestly I can't think of a critique. When I was thinking of something wrong with the graph, it addressed the thing I had an issue with. I honestly believe this is a fantastic graph. "
   ],
   "metadata": {}
  },
  {
   "cell_type": "code",
   "execution_count": null,
   "source": [
    "#%%\r\n",
    "import pandas as pd \r\n",
    "import altair as alt\r\n",
    "from sklearn import datasets\r\n",
    "iris = datasets.load_iris(as_frame=True)\r\n",
    "                    #must put as_frame else returns a series without column headders\r\n",
    "irisd = iris.data   #pulls out the data\r\n",
    "irist = iris.target # pulls out the targets\r\n",
    "irisf = iris.frame  # pulls out all of the data including the targets \r\n",
    "                    # So we can have the categories 0-2\r\n",
    "irisn = iris.target_names#pulls out the names of the flowers\r\n",
    "# %%\r\n",
    "irisf['target_name'] = irisf.target.map({0:'setosa',1:'versicolor',2:'virginica'})\r\n",
    "\r\n",
    "chart = alt.Chart(irisf).mark_point().encode(\r\n",
    "    alt.X('petal width (cm)',scale=alt.Scale(zero=False)),\r\n",
    "    alt.Y('petal length (cm)',scale=alt.Scale(zero=False)),\r\n",
    "    alt.Color('target_name')\r\n",
    ")\r\n",
    "chart"
   ],
   "outputs": [],
   "metadata": {}
  }
 ],
 "metadata": {
  "orig_nbformat": 4,
  "language_info": {
   "name": "python"
  }
 },
 "nbformat": 4,
 "nbformat_minor": 2
}