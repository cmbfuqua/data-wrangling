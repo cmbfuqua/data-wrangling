{
 "cells": [
  {
   "cell_type": "markdown",
   "metadata": {},
   "source": [
    "# Homework Title\r\n",
    "# Ben Fuqua\r\n",
    "## \"2021-09-23\"\r\n",
    "## class: \"CSE 350 01\"\r\n",
    "## hours: .5 \r\n",
    "## Palmer\r\n",
    "----------------------------------------\r\n"
   ]
  },
  {
   "cell_type": "code",
   "execution_count": 3,
   "metadata": {},
   "outputs": [],
   "source": [
    "import pandas as pd \r\n",
    "from pandas_profiling import ProfileReport as pr \r\n",
    "import altair as alt \r\n"
   ]
  },
  {
   "cell_type": "code",
   "execution_count": 4,
   "metadata": {},
   "outputs": [],
   "source": [
    "data = pd.read_csv('https://byuistats.github.io/M335/data/rcw.csv')\r\n",
    "#change"
   ]
  },
  {
   "cell_type": "markdown",
   "metadata": {},
   "source": [
    "# Question For RC&W attendance, what is the growth trend over time by department?"
   ]
  },
  {
   "cell_type": "code",
   "execution_count": 10,
   "metadata": {},
   "outputs": [
    {
     "data": {
      "application/vnd.vegalite.v4+json": {
       "$schema": "https://vega.github.io/schema/vega-lite/v4.8.1.json",
       "config": {
        "view": {
         "continuousHeight": 300,
         "continuousWidth": 400
        }
       },
       "data": {
        "name": "data-449df7e85014a33dac0728cc0e1a0c50"
       },
       "datasets": {
        "data-449df7e85014a33dac0728cc0e1a0c50": [
         {
          "Count": 7,
          "Department": "Chem",
          "Semester": "Spring",
          "Semester_Date": "4/1/16",
          "Year": 2016
         },
         {
          "Count": 10,
          "Department": "Chem",
          "Semester": "Fall",
          "Semester_Date": "9/1/16",
          "Year": 2016
         },
         {
          "Count": 21,
          "Department": "Chem",
          "Semester": "Winter",
          "Semester_Date": "1/1/17",
          "Year": 2017
         },
         {
          "Count": 8,
          "Department": "Chem",
          "Semester": "Spring",
          "Semester_Date": "4/1/17",
          "Year": 2017
         },
         {
          "Count": 12,
          "Department": "Chem",
          "Semester": "Fall",
          "Semester_Date": "9/1/17",
          "Year": 2017
         },
         {
          "Count": 16,
          "Department": "Chem",
          "Semester": "Winter",
          "Semester_Date": "1/1/18",
          "Year": 2018
         },
         {
          "Count": 27,
          "Department": "CSEE",
          "Semester": "Spring",
          "Semester_Date": "4/1/16",
          "Year": 2016
         },
         {
          "Count": 15,
          "Department": "CSEE",
          "Semester": "Fall",
          "Semester_Date": "9/1/16",
          "Year": 2016
         },
         {
          "Count": 13,
          "Department": "CSEE",
          "Semester": "Winter",
          "Semester_Date": "1/1/17",
          "Year": 2017
         },
         {
          "Count": 18,
          "Department": "CSEE",
          "Semester": "Spring",
          "Semester_Date": "4/1/17",
          "Year": 2017
         },
         {
          "Count": 7,
          "Department": "CSEE",
          "Semester": "Fall",
          "Semester_Date": "9/1/17",
          "Year": 2017
         },
         {
          "Count": 11,
          "Department": "CSEE",
          "Semester": "Winter",
          "Semester_Date": "1/1/18",
          "Year": 2018
         },
         {
          "Count": 0,
          "Department": "DCM",
          "Semester": "Spring",
          "Semester_Date": "4/1/16",
          "Year": 2016
         },
         {
          "Count": 1,
          "Department": "DCM",
          "Semester": "Fall",
          "Semester_Date": "9/1/16",
          "Year": 2016
         },
         {
          "Count": 1,
          "Department": "DCM",
          "Semester": "Winter",
          "Semester_Date": "1/1/17",
          "Year": 2017
         },
         {
          "Count": 2,
          "Department": "DCM",
          "Semester": "Spring",
          "Semester_Date": "4/1/17",
          "Year": 2017
         },
         {
          "Count": 0,
          "Department": "DCM",
          "Semester": "Fall",
          "Semester_Date": "9/1/17",
          "Year": 2017
         },
         {
          "Count": 1,
          "Department": "DCM",
          "Semester": "Winter",
          "Semester_Date": "1/1/18",
          "Year": 2018
         },
         {
          "Count": 4,
          "Department": "GEO",
          "Semester": "Spring",
          "Semester_Date": "4/1/16",
          "Year": 2016
         },
         {
          "Count": 0,
          "Department": "GEO",
          "Semester": "Fall",
          "Semester_Date": "9/1/16",
          "Year": 2016
         },
         {
          "Count": 14,
          "Department": "GEO",
          "Semester": "Winter",
          "Semester_Date": "1/1/17",
          "Year": 2017
         },
         {
          "Count": 0,
          "Department": "GEO",
          "Semester": "Spring",
          "Semester_Date": "4/1/17",
          "Year": 2017
         },
         {
          "Count": 0,
          "Department": "GEO",
          "Semester": "Fall",
          "Semester_Date": "9/1/17",
          "Year": 2017
         },
         {
          "Count": 14,
          "Department": "GEO",
          "Semester": "Winter",
          "Semester_Date": "1/1/18",
          "Year": 2018
         },
         {
          "Count": 2,
          "Department": "Math",
          "Semester": "Spring",
          "Semester_Date": "4/1/16",
          "Year": 2016
         },
         {
          "Count": 2,
          "Department": "Math",
          "Semester": "Fall",
          "Semester_Date": "9/1/16",
          "Year": 2016
         },
         {
          "Count": 0,
          "Department": "Math",
          "Semester": "Winter",
          "Semester_Date": "1/1/17",
          "Year": 2017
         },
         {
          "Count": 5,
          "Department": "Math",
          "Semester": "Spring",
          "Semester_Date": "4/1/17",
          "Year": 2017
         },
         {
          "Count": 2,
          "Department": "Math",
          "Semester": "Fall",
          "Semester_Date": "9/1/17",
          "Year": 2017
         },
         {
          "Count": 2,
          "Department": "Math",
          "Semester": "Winter",
          "Semester_Date": "1/1/18",
          "Year": 2018
         },
         {
          "Count": 38,
          "Department": "ME",
          "Semester": "Spring",
          "Semester_Date": "4/1/16",
          "Year": 2016
         },
         {
          "Count": 41,
          "Department": "ME",
          "Semester": "Fall",
          "Semester_Date": "9/1/16",
          "Year": 2016
         },
         {
          "Count": 28,
          "Department": "ME",
          "Semester": "Winter",
          "Semester_Date": "1/1/17",
          "Year": 2017
         },
         {
          "Count": 15,
          "Department": "ME",
          "Semester": "Spring",
          "Semester_Date": "4/1/17",
          "Year": 2017
         },
         {
          "Count": 18,
          "Department": "ME",
          "Semester": "Fall",
          "Semester_Date": "9/1/17",
          "Year": 2017
         },
         {
          "Count": 29,
          "Department": "ME",
          "Semester": "Winter",
          "Semester_Date": "1/1/18",
          "Year": 2018
         },
         {
          "Count": 5,
          "Department": "PHY",
          "Semester": "Spring",
          "Semester_Date": "4/1/16",
          "Year": 2016
         },
         {
          "Count": 11,
          "Department": "PHY",
          "Semester": "Fall",
          "Semester_Date": "9/1/16",
          "Year": 2016
         },
         {
          "Count": 8,
          "Department": "PHY",
          "Semester": "Winter",
          "Semester_Date": "1/1/17",
          "Year": 2017
         },
         {
          "Count": 0,
          "Department": "PHY",
          "Semester": "Spring",
          "Semester_Date": "4/1/17",
          "Year": 2017
         },
         {
          "Count": 7,
          "Department": "PHY",
          "Semester": "Fall",
          "Semester_Date": "9/1/17",
          "Year": 2017
         },
         {
          "Count": 5,
          "Department": "PHY",
          "Semester": "Winter",
          "Semester_Date": "1/1/18",
          "Year": 2018
         }
        ]
       },
       "encoding": {
        "color": {
         "field": "Department",
         "type": "nominal"
        },
        "x": {
         "field": "Semester_Date",
         "title": "Start date of the semester",
         "type": "temporal"
        },
        "y": {
         "field": "Count",
         "title": "Number of Attendees",
         "type": "quantitative"
        }
       },
       "mark": "line",
       "title": "Growth over time at RC&W Conference"
      },
      "image/png": "[encoded data removed]",
      "text/plain": [
       "<VegaLite 4 object>\n",
       "\n",
       "If you see this message, it means the renderer has not been properly enabled\n",
       "for the frontend that you are using. For more information, see\n",
       "https://altair-viz.github.io/user_guide/troubleshooting.html\n"
      ]
     },
     "execution_count": 10,
     "metadata": {},
     "output_type": "execute_result"
    }
   ],
   "source": [
    "alt.data_transformers.enable('default')\r\n",
    "alt.Chart(data,title = 'Growth over time at RC&W Conference').mark_line().encode(\r\n",
    "    alt.X('Semester_Date:T',title = 'Start date of the semester'),\r\n",
    "    alt.Y('Count',title = 'Number of Attendees'),\r\n",
    "    alt.Color('Department')\r\n",
    ")\r\n"
   ]
  },
  {
   "cell_type": "markdown",
   "metadata": {},
   "source": [
    "Chart that demonstrates the change over time  \r\n"
   ]
  }
 ],
 "metadata": {
  "interpreter": {
   "hash": "6537d6febe7fb1246163fe1377d17bbfd38b19cd973b106333eb66b4dd5f3e76"
  },
  "kernelspec": {
   "display_name": "Python 3",
   "language": "python",
   "name": "python3"
  },
  "language_info": {
   "codemirror_mode": {
    "name": "ipython",
    "version": 3
   },
   "file_extension": ".py",
   "mimetype": "text/x-python",
   "name": "python",
   "nbconvert_exporter": "python",
   "pygments_lexer": "ipython3",
   "version": "3.8.9"
  }
 },
 "nbformat": 4,
 "nbformat_minor": 4
}
